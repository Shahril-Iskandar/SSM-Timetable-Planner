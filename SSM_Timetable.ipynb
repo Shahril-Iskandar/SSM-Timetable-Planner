{
 "cells": [
  {
   "cell_type": "markdown",
   "id": "56854d7c-6b9c-4029-93cf-e1123d6d8efe",
   "metadata": {},
   "source": [
    "# Student Planner:"
   ]
  },
  {
   "cell_type": "markdown",
   "id": "5dc76cfc-4d76-46de-ad3c-a1c78d54f449",
   "metadata": {},
   "source": [
    "### This program is design to convert the PDF timetable given to students to a planner in Microsoft Excel, before subsequently exporting to Google Calendar once courses confirmed."
   ]
  },
  {
   "cell_type": "markdown",
   "id": "0372a406-4b16-4c62-b318-7bd2421ca875",
   "metadata": {},
   "source": [
    "#### From:\n",
    "\n",
    "![Picture](SSM_Planner/Pic1.png)"
   ]
  },
  {
   "cell_type": "markdown",
   "id": "c15b6fbd-289e-42bd-a604-82c125ad3d85",
   "metadata": {},
   "source": [
    "#### To Excel:\n",
    "\n",
    "![Picture](SSM_Planner/Excel9.png)"
   ]
  },
  {
   "cell_type": "markdown",
   "id": "1dbeb88d-6407-4de3-82a5-a207bf7bdd3c",
   "metadata": {},
   "source": [
    "#### and Google Calendar afterwards.\n",
    "\n",
    "![Picture](SSM_Planner/Google5.png)"
   ]
  },
  {
   "cell_type": "markdown",
   "id": "305f448c-9848-4a12-9a6c-051f897c4ed0",
   "metadata": {},
   "source": [
    "## Mircosoft Excel"
   ]
  },
  {
   "cell_type": "markdown",
   "id": "837ff38e-ff80-42c3-a9d4-3068d26fc954",
   "metadata": {},
   "source": [
    "1) Run the python program\n",
    "    - Input start and end page accordingly to your needs.\n",
    "    - Input the date of first day of school in the correct format as shown.\n",
    "\n",
    "2) Once completed, look for 'SSM Timetable Planner.xlsx' file. It will be in the same folder from where you had run the program.\n",
    "\n",
    "3) Open the Excel file and import the VBA code.\n",
    "    - Developer -> View Code -> File -> Import File\n",
    "    - Once imported, it will appear in the module folder. Check that the code is present.\n",
    "    - Developer -> Macros -> Click on the 'Start' macro -> Run\n",
    "    \n",
    "4) Once completed, proceed to 'Sheet 2' and add your courses accordingly. Click on the 'Calendar' sheet to visually see your timetable.\n",
    "\n",
    "5) Once courses have been registered via ISAAC, it's time to export to Google calendar. 'Sheet 2' -> 'Google Format' button\n",
    "\n",
    "6) Add any description, if necessary. Click 'Export' when ready."
   ]
  },
  {
   "cell_type": "markdown",
   "id": "6f33446e-bd10-4fec-a4eb-34744babcf68",
   "metadata": {},
   "source": [
    "## Google Calendar"
   ]
  },
  {
   "cell_type": "markdown",
   "id": "82ecf37c-5d7c-49c7-883c-1a46d85a2912",
   "metadata": {},
   "source": [
    "1) Open Google Calender\n",
    "\n",
    "2) Look for 'Other Calendars' on the left side --> '+' button --> Import\n",
    "\n",
    "3) Look for the CSV file.\n",
    "\n",
    "4) Select the calendar you which to add.\n",
    "\n",
    "5) Google Calendar will indicate how many courses were added, depending on how many where added by you.\n",
    "\n",
    "6) See your newly added timetable."
   ]
  },
  {
   "cell_type": "markdown",
   "id": "ed230dff-2961-4831-bad3-1b3f581911ac",
   "metadata": {},
   "source": [
    "To use Jupyter to run, follow the steps below.\n",
    "\n",
    "On the GitHub page --> Right click on the .ipynb file --> Copy link address --> Click [here](https://colab.research.google.com/github/googlecolab/colabtools/blob/master/notebooks/colab-github-demo.ipynb) --> File --> GitHub --> Paste the link --> Run the code in order"
   ]
  },
  {
   "cell_type": "markdown",
   "id": "f7e0f22c-6bd8-4d43-ab9e-1e999903fb53",
   "metadata": {},
   "source": [
    "# Install packages and importing"
   ]
  },
  {
   "cell_type": "code",
   "execution_count": null,
   "id": "95ec21ae-ccda-4c63-8c68-3af74c814431",
   "metadata": {},
   "outputs": [],
   "source": [
    "!pip install tabula-py\n",
    "!pip install \"camelot-py[cv]\"\n",
    "!pip install ghostscript\n",
    "!pip install excalibur-py\n",
    "!pip install xlsxwriter\n",
    "import tabula\n",
    "import camelot\n",
    "import pandas as pd\n",
    "import numpy as np\n",
    "import openpyxl\n",
    "import datetime\n",
    "from datetime import date\n",
    "from datetime import timedelta\n",
    "import calendar\n",
    "import pandas as pd\n",
    "from openpyxl import load_workbook\n",
    "from openpyxl.worksheet.table import Table, TableStyleInfo"
   ]
  },
  {
   "cell_type": "markdown",
   "id": "851064cc-4f1b-4e88-87ee-0f99d199811e",
   "metadata": {},
   "source": [
    "# Open PDF and read"
   ]
  },
  {
   "cell_type": "code",
   "execution_count": 2,
   "id": "51a72760-324d-4fe5-9707-44046d59df9d",
   "metadata": {},
   "outputs": [
    {
     "name": "stdin",
     "output_type": "stream",
     "text": [
      "Input start page:  11\n",
      "Input last page:  15\n"
     ]
    },
    {
     "name": "stdout",
     "output_type": "stream",
     "text": [
      "\n",
      "Total tables extracted:  5\n"
     ]
    },
    {
     "name": "stdin",
     "output_type": "stream",
     "text": [
      "\n",
      "Enter the first day of school in dd mm yyyy format, with spaces. \n",
      " Example: 9 August 2021 = 09 08 2021 \n",
      " Date:   10 08 2021\n"
     ]
    },
    {
     "name": "stdout",
     "output_type": "stream",
     "text": [
      "Success. Please check your file explorer.\n"
     ]
    }
   ],
   "source": [
    "#ALlow user to choose the file\n",
    "file = \"SSM Timetable_AY21S1_3.pdf\"\n",
    "\n",
    "#Allow user to input page to extract\n",
    "start = input(\"Input start page: \")\n",
    "end = input(\"Input last page: \")\n",
    "page = f\"{start}-{end}\"\n",
    "\n",
    "#Read the pdf and extract the table\n",
    "tables = camelot.read_pdf(file, pages=page)\n",
    "print(\"\\nTotal tables extracted: \", tables.n)\n",
    "\n",
    "#Remove first row from second page onwards and append\n",
    "df = tables[0].df\n",
    "for t in range(1, tables.n):\n",
    "  data = tables[t].df\n",
    "  data = data.drop(labels=0, axis=0)\n",
    "  df = df.append(data)\n",
    "\n",
    "#Make first row as the header\n",
    "new_header = df.iloc[0]\n",
    "df = df[1:]\n",
    "df.columns = new_header\n",
    "\n",
    "#Changing column name\n",
    "headerName = [\"Course Code\", \"Title\", \"Class Type\", \"Course Type\", \"Group\", \"Day\", \"Time\", \"Venue\", \"Remark\"]\n",
    "df.columns = headerName\n",
    "\n",
    "#Export out first because need to use index_col to make the first row as header\n",
    "df.to_excel(\"Table.xlsx\")\n",
    "\n",
    "#Read the excel file\n",
    "df2 = pd.read_excel(\"Table.xlsx\", index_col=[0])\n",
    "\n",
    "df2.fillna(method=\"ffill\", inplace=True) #Filling up the empty cells\n",
    "df2 = df2.dropna(axis=1) #Drop remarks column\n",
    "\n",
    "for column in df2.columns:\n",
    "    df2[column] = df2[column].str.replace(\"\\n\", \"\")\n",
    "    \n",
    "#Dropping sport psychology for ease\n",
    "df2 = df2.drop(labels=8, axis=0)\n",
    "\n",
    "#Splitting the time into start and end time\n",
    "df2['Start Time'] = df2['Time'].str.split('-', expand=True)[0]\n",
    "df2['End Time'] = df2['Time'].str.split('-', expand=True)[1]\n",
    "\n",
    "#Format time to include semicolon\n",
    "df2['Start Time'] = df2['Start Time'].str[:2] + \":\" + df2['Start Time'].str[-2:]\n",
    "df2['End Time'] = df2['End Time'].str.strip().str[0:2] + \":\"+ df2['End Time'].str.strip().str[-2:]\n",
    "\n",
    "#Delete old time colum\n",
    "df2 = df2.drop('Time', axis=1)\n",
    "\n",
    "#Drop any column that is null, i.e. Remarks\n",
    "df2 = df2.dropna(axis=1)\n",
    "# df2['Start Time'] = pd.to_datetime(df2['Start Time']).dt.time\n",
    "# df2['End Time'] = pd.to_datetime(df2['End Time']).dt.time\n",
    "\n",
    "#Formating the 'Date' column to datetime\n",
    "week_days= ['Monday', 'Tuesday', 'Wednesday', 'Thursday', 'Friday', 'Saturday', 'Sunday']\n",
    "date = str(input('\\nEnter the first day of school in dd mm yyyy format, with spaces. \\n Example: 9 August 2021 = 09 08 2021 \\n Date:  '))\n",
    "day, month, year = date.split(' ') #10 08 2021\n",
    "startdate = datetime.date(int(year), int(month), int(day)) #2021-08-10\n",
    "\n",
    "#From startdate, find the next 6 days.\n",
    "ls = []\n",
    "all = []\n",
    "enddate = startdate + timedelta(days=6) #2021-08-16\n",
    "diff = enddate - startdate\n",
    "\n",
    "for i in range(diff.days + 1):\n",
    "    datee = startdate + datetime.timedelta(i)\n",
    "    k = datee.strftime(\"%A\") #day name\n",
    "    d = datee.strftime(\"%d\") #day number\n",
    "    m = datee.strftime(\"%m\") #month number\n",
    "    y = datee.strftime(\"%Y\") #year number\n",
    "    ls.append(k)\n",
    "    all.append(d + m + y) #to get [10082021, 11082021,...] etc\n",
    "\n",
    "#Put the date in 10/08/2021 format\n",
    "newls = []\n",
    "for i in all:\n",
    "    i = i[0:2] + \"/\" + i[2:4] + \"/\" + i[4:]\n",
    "    newls.append(i)\n",
    "\n",
    "#Use the new format so can use the .weekday() function\n",
    "newday = []\n",
    "for i in newls:\n",
    "    newlist = list(map(int, i.split('/')))\n",
    "    #print(newlist)\n",
    "    day=datetime.date(newlist[2],newlist[1],newlist[0]).weekday() #1\n",
    "    d = week_days[day][:3].upper()#TUE\n",
    "    newday.append(d) #['TUE', 'WED', 'THU', 'FRI', 'SAT', 'SUN', 'MON']\n",
    "\n",
    "#put in a new dataframe, then merge\n",
    "list_of_tuples = list(zip(newls, newday))\n",
    "\n",
    "df3 = pd.DataFrame(list_of_tuples,\n",
    "                  columns = ['Date', 'Day'])\n",
    "df3['Date']= pd.to_datetime(df3['Date'], dayfirst=True)\n",
    "\n",
    "df2 = pd.merge(df2, df3)\n",
    "\n",
    "#Export out as excel\n",
    "df2.to_excel(\"SSM Timetable Planner.xlsx\")\n",
    "wb = load_workbook(filename = 'SSM Timetable Planner.xlsx')\n",
    "ws = wb.active\n",
    "\n",
    "#Delete the first column which shows the row numbers\n",
    "ws.delete_cols(idx=1,amount=1)\n",
    "wb.save(\"SSM Timetable Planner.xlsx\")\n",
    "\n",
    "print(\"Success. Please check your file explorer.\")"
   ]
  }
 ],
 "metadata": {
  "kernelspec": {
   "display_name": "Python 3 (ipykernel)",
   "language": "python",
   "name": "python3"
  },
  "language_info": {
   "codemirror_mode": {
    "name": "ipython",
    "version": 3
   },
   "file_extension": ".py",
   "mimetype": "text/x-python",
   "name": "python",
   "nbconvert_exporter": "python",
   "pygments_lexer": "ipython3",
   "version": "3.9.1"
  }
 },
 "nbformat": 4,
 "nbformat_minor": 5
}
