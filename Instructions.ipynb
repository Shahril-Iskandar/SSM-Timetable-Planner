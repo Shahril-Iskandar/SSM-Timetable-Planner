{
 "cells": [
  {
   "cell_type": "markdown",
   "id": "56854d7c-6b9c-4029-93cf-e1123d6d8efe",
   "metadata": {},
   "source": [
    "# SSM Student Planner:"
   ]
  },
  {
   "cell_type": "markdown",
   "id": "5dc76cfc-4d76-46de-ad3c-a1c78d54f449",
   "metadata": {},
   "source": [
    "### This program is design to convert the PDF timetable given to SSM students to a planner in Microsoft Excel, before subsequently exporting to Google Calendar once courses are registered."
   ]
  },
  {
   "cell_type": "markdown",
   "id": "0372a406-4b16-4c62-b318-7bd2421ca875",
   "metadata": {},
   "source": [
    "#### From:\n",
    "\n",
    "![Picture](Pictures/SSM_Planner/Pic1.png)"
   ]
  },
  {
   "cell_type": "markdown",
   "id": "c15b6fbd-289e-42bd-a604-82c125ad3d85",
   "metadata": {},
   "source": [
    "#### to planning in Microsoft Excel:\n",
    "\n",
    "![Picture](Pictures/SSM_Planner/Excel9.png)"
   ]
  },
  {
   "cell_type": "markdown",
   "id": "1dbeb88d-6407-4de3-82a5-a207bf7bdd3c",
   "metadata": {},
   "source": [
    "#### and exporting to Google Calendar afterwards.\n",
    "\n",
    "![Picture](Pictures/SSM_Planner/Google5.png)"
   ]
  },
  {
   "cell_type": "markdown",
   "id": "bd150980",
   "metadata": {},
   "source": [
    "## Instructions:"
   ]
  },
  {
   "cell_type": "markdown",
   "id": "39457d01",
   "metadata": {},
   "source": [
    "1. Download 'Module 1.bas' file. This is a VBA code for the Excel file.\n",
    "\n",
    "\n",
    "2. Look for the `main.ipynb` file and click 'Open in Colab'.\n",
    "\n",
    "\n",
    "3. On the left menu, bottom icon is a file. Upload PDF timetable.\n",
    "\n",
    "\n",
    "4. Scroll down and run 'Install pacakages..'\n",
    "\n",
    "\n",
    "5. Run 'Open PDF...'\n",
    "- Input `start` and `end` page accordingly to your needs.\n",
    "- Input the `date of first day` of school in the correct format as shown.\n",
    "\n",
    "\n",
    "6. Once completed, look for the excel file `SSM Timetable Planner.xlsx` at the file on the left side.\n",
    "\n",
    "\n",
    "7. Open the Excel file and import the VBA file.\n",
    "- Developer -> View Code -> File -> Import File\n",
    "\n",
    "![Picture](Pictures/SSM_Planner/Excel1.png)\n",
    "![Picture](Pictures/SSM_Planner/Excel2.png)\n",
    "![Picture](Pictures/SSM_Planner/Excel3.png)\n",
    "![Picture](Pictures/SSM_Planner/Excel4.png)\n",
    "\n",
    "8. Once imported, it will appear in the module folder. Check that the code is present. \n",
    "\n",
    "![Picture](Pictures/SSM_Planner/Excel.png)\n",
    "\n",
    "*If there are any courses shown like SS3311 (see first picture above), i.e. the 'Day' column has more than one day in a single cell, the second date is removed. You will have to manually add it.\n",
    "\n",
    "9. Run 'Start' macro\n",
    "- Developer -> Macros -> 'Start' macro -> Run\n",
    "\n",
    "![Picture](Pictures/SSM_Planner/Excel5.png)\n",
    "![Picture](Pictures/SSM_Planner/Excel6.png)\n",
    "\n",
    "9. Once completed, proceed to 'Sheet 2' and add your courses accordingly.\n",
    "\n",
    "![Picture](Pictures/SSM_Planner/Excel7.png)\n",
    "\n",
    "10. Click on the 'Calendar' sheet to visually see your timetable for the week.\n",
    "\n",
    "\n",
    "11. When ready to export to Google calendar:\n",
    "- 'Sheet 2' -> 'Google Format' button\n",
    "\n",
    "![Picture](Pictures/SSM_Planner/Excel8.png)\n",
    "\n",
    "12. Add any description, if necessary. Click 'Export' when ready.\n",
    "\n",
    "![Picture](Pictures/SSM_Planner/Excel10.png)\n",
    "![Picture](Pictures/SSM_Planner/Excel11.png)"
   ]
  },
  {
   "cell_type": "markdown",
   "id": "6f33446e-bd10-4fec-a4eb-34744babcf68",
   "metadata": {},
   "source": [
    "## Adding to Google Calendar"
   ]
  },
  {
   "cell_type": "markdown",
   "id": "82ecf37c-5d7c-49c7-883c-1a46d85a2912",
   "metadata": {},
   "source": [
    "1) Open Google Calender\n",
    "\n",
    "2) Look for 'Other Calendars' on the left side --> '+' button --> Import\n",
    "\n",
    "![Picture](Pictures/SSM_Planner/Google1.png)\n",
    "![Picture](Pictures/SSM_Planner/Google2.png)\n",
    "\n",
    "3) Look for the CSV file.\n",
    "\n",
    "![Picture](Pictures/SSM_Planner/Excel12.png)\n",
    "\n",
    "4) Select the calendar you which to add.\n",
    "\n",
    "![Picture](Pictures/SSM_Planner/Google3.png)\n",
    "\n",
    "5) Google Calendar will indicate how many courses were added, depending on how many where added by you.\n",
    "\n",
    "![Picture](Pictures/SSM_Planner/Google4.png)\n",
    "\n",
    "6) Enjoy your newly added timetable.\n",
    "\n",
    "![Picture](Pictures/SSM_Planner/Google5.png)\n",
    "\n",
    "7) To make it weekly recurring:\n",
    "- Option 1: Copy paste and change the start and end date in Excel before exporting.\n",
    "- Option 2: Manually set it to recurring once added to Google Calendar. \n",
    "\n",
    "Recommended option is 2 because if any changes occur, you have the option if it will affect all subsequent events or not."
   ]
  }
 ],
 "metadata": {
  "kernelspec": {
   "display_name": "Python 3 (ipykernel)",
   "language": "python",
   "name": "python3"
  },
  "language_info": {
   "codemirror_mode": {
    "name": "ipython",
    "version": 3
   },
   "file_extension": ".py",
   "mimetype": "text/x-python",
   "name": "python",
   "nbconvert_exporter": "python",
   "pygments_lexer": "ipython3",
   "version": "3.9.1"
  }
 },
 "nbformat": 4,
 "nbformat_minor": 5
}
